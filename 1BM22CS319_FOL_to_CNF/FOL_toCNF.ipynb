{
  "nbformat": 4,
  "nbformat_minor": 0,
  "metadata": {
    "colab": {
      "provenance": []
    },
    "kernelspec": {
      "name": "python3",
      "display_name": "Python 3"
    },
    "language_info": {
      "name": "python"
    }
  },
  "cells": [
    {
      "cell_type": "code",
      "source": [],
      "metadata": {
        "id": "JKQ8MvKWw8XX"
      },
      "execution_count": null,
      "outputs": []
    },
    {
      "cell_type": "code",
      "source": [
        "from sympy import symbols, Not, Or, And, Implies, Equivalent\n",
        "from sympy.logic.boolalg import to_cnf\n",
        "\n",
        "def fol_to_cnf(fol_expr):\n",
        "    fol_expr = fol_expr.replace(Equivalent, lambda a, b: And(Implies(a, b), Implies(b, a)))\n",
        "    fol_expr = fol_expr.replace(Implies, lambda a, b: Or(Not(a), b))\n",
        "    cnf_form = to_cnf(fol_expr, simplify=True)\n",
        "    return cnf_form\n",
        "\n",
        "def main():\n",
        "    P = symbols(\"P\")\n",
        "    Q = symbols(\"Q\")\n",
        "    R = symbols(\"R\")\n",
        "\n",
        "    fol_expr1 = Implies(P, Q)\n",
        "    print(\"Example 1: P → Q\")\n",
        "    print(\"Original FOL Expression:\")\n",
        "    print(fol_expr1)\n",
        "\n",
        "    cnf1 = fol_to_cnf(fol_expr1)\n",
        "    print(\"\\nCNF Form:\")\n",
        "    print(cnf1)\n",
        "\n",
        "    fol_expr2 = Implies(Or(P, Not(Q)), Or(Q, R))\n",
        "    print(\"\\nExample 2: (P ∨ ¬Q) → (Q ∨ R)\")\n",
        "    print(\"Original FOL Expression:\")\n",
        "    print(fol_expr2)\n",
        "\n",
        "    cnf2 = fol_to_cnf(fol_expr2)\n",
        "    print(\"\\nCNF Form:\")\n",
        "    print(cnf2)\n",
        "\n",
        "if __name__ == \"__main__\":\n",
        "    main()\n",
        "    print(\"---------\")\n",
        "    print(\"Vanith D Ramesh (1BM22CS319)\")"
      ],
      "metadata": {
        "colab": {
          "base_uri": "https://localhost:8080/"
        },
        "id": "sdJWbsCwroqR",
        "outputId": "360f10b5-2df0-4f2c-d7e7-b1f35d3b3c5a"
      },
      "execution_count": null,
      "outputs": [
        {
          "output_type": "stream",
          "name": "stdout",
          "text": [
            "Example 1: P → Q\n",
            "Original FOL Expression:\n",
            "Implies(P, Q)\n",
            "\n",
            "CNF Form:\n",
            "Q | ~P\n",
            "\n",
            "Example 2: (P ∨ ¬Q) → (Q ∨ R)\n",
            "Original FOL Expression:\n",
            "Implies(P | ~Q, Q | R)\n",
            "\n",
            "CNF Form:\n",
            "Q | R\n",
            "---------\n",
            "Vanith D Ramesh (1BM22CS319)\n"
          ]
        }
      ]
    }
  ]
}