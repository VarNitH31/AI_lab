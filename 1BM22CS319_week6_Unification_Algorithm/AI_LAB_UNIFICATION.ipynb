{
  "nbformat": 4,
  "nbformat_minor": 0,
  "metadata": {
    "colab": {
      "provenance": []
    },
    "kernelspec": {
      "name": "python3",
      "display_name": "Python 3"
    },
    "language_info": {
      "name": "python"
    }
  },
  "cells": [
    {
      "cell_type": "code",
      "source": [
        "def unify(s1, s2, theta={}):\n",
        "\n",
        "    if theta is None:\n",
        "        return None\n",
        "\n",
        "    if s1 == s2:\n",
        "        return theta\n",
        "\n",
        "    if isinstance(s1, str) and s1.islower():\n",
        "        return unify_var(s1, s2, theta)\n",
        "\n",
        "    if isinstance(s2, str) and s2.islower():\n",
        "        return unify_var(s2, s1, theta)\n",
        "\n",
        "    if isinstance(s1, tuple) and isinstance(s2, tuple) and len(s1) == len(s2):\n",
        "        return unify(s1[1:], s2[1:], unify(s1[0], s2[0], theta))\n",
        "\n",
        "    return None\n",
        "\n",
        "def unify_var(var, x, theta):\n",
        "    if var in theta:\n",
        "        return unify(theta[var], x, theta)\n",
        "    elif x in theta:\n",
        "        return unify(var, theta[x], theta)\n",
        "    elif occurs_check(var, x, theta):\n",
        "        return None\n",
        "    else:\n",
        "        theta[var] = x\n",
        "        return theta\n",
        "\n",
        "def occurs_check(var, x, theta):\n",
        "    if var == x:\n",
        "        return True\n",
        "    elif isinstance(x, str) and x.islower() and x in theta:\n",
        "        return occurs_check(var, theta[x], theta)\n",
        "    elif isinstance(x, tuple):\n",
        "        for arg in x:\n",
        "            if occurs_check(var, arg, theta):\n",
        "                return True\n",
        "    return False\n",
        "\n",
        "\n",
        "s1 = ('p', 'x', ('f', 'x'), ('y'))\n",
        "s2 = ('p', 'a', 'y', ('f', 'x'))\n",
        "\n",
        "substitution = unify(s1, s2)\n",
        "\n",
        "if substitution:\n",
        "    print(\"Unification successful:\")\n",
        "    print(f\"Substitution: {substitution}\")\n",
        "else:\n",
        "    print(\"Unification failed.\")"
      ],
      "metadata": {
        "colab": {
          "base_uri": "https://localhost:8080/"
        },
        "id": "zQQiU-zkewWw",
        "outputId": "9293d4f2-7b40-4169-e22a-3f75cfc3fbb5"
      },
      "execution_count": null,
      "outputs": [
        {
          "output_type": "stream",
          "name": "stdout",
          "text": [
            "Unification successful:\n",
            "Substitution: {'x': 'a', 'y': ('f', 'x')}\n"
          ]
        }
      ]
    },
    {
      "cell_type": "code",
      "source": [],
      "metadata": {
        "id": "d_XPxZw4mZRf"
      },
      "execution_count": null,
      "outputs": []
    }
  ]
}