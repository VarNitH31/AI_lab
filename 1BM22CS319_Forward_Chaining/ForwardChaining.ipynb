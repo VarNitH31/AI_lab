{
  "nbformat": 4,
  "nbformat_minor": 0,
  "metadata": {
    "colab": {
      "provenance": []
    },
    "kernelspec": {
      "name": "python3",
      "display_name": "Python 3"
    },
    "language_info": {
      "name": "python"
    }
  },
  "cells": [
    {
      "cell_type": "code",
      "source": [],
      "metadata": {
        "id": "JKQ8MvKWw8XX"
      },
      "execution_count": null,
      "outputs": []
    },
    {
      "cell_type": "code",
      "source": [
        "\n",
        "\n",
        "# Define the knowledge base as a list of rules and facts\n",
        "\n",
        "\n",
        "class KnowledgeBase:\n",
        "    def __init__(self):\n",
        "        self.facts = set()   # Set of known facts\n",
        "        self.rules = []      # List of rules\n",
        "\n",
        "\n",
        "    def add_fact(self, fact):\n",
        "        self.facts.add(fact)\n",
        "\n",
        "\n",
        "    def add_rule(self, rule):\n",
        "        self.rules.append(rule)\n",
        "\n",
        "\n",
        "    def infer(self):\n",
        "        inferred = True\n",
        "        while inferred:\n",
        "            inferred = False\n",
        "            for rule in self.rules:\n",
        "                if rule.apply(self.facts):\n",
        "                    inferred = True\n",
        "\n",
        "\n",
        "# Define the Rule class\n",
        "class Rule:\n",
        "    def __init__(self, premises, conclusion):\n",
        "        self.premises = premises  # List of conditions\n",
        "        self.conclusion = conclusion  # Conclusion to add if premises are met\n",
        "\n",
        "\n",
        "    def apply(self, facts):\n",
        "        if all(premise in facts for premise in self.premises):\n",
        "            if self.conclusion not in facts:\n",
        "                facts.add(self.conclusion)\n",
        "                print(f\"Inferred: {self.conclusion}\")\n",
        "                return True\n",
        "        return False\n",
        "\n",
        "\n",
        "# Initialize the knowledge base\n",
        "kb = KnowledgeBase()\n",
        "\n",
        "\n",
        "# Facts in the problem\n",
        "kb.add_fact(\"American(Robert)\")\n",
        "kb.add_fact(\"Missile(T1)\")\n",
        "kb.add_fact(\"Owns(A, T1)\")\n",
        "kb.add_fact(\"Enemy(A, America)\")\n",
        "\n",
        "\n",
        "# Rules based on the problem\n",
        "# 1. Missile(x) implies Weapon(x)\n",
        "kb.add_rule(Rule([\"Missile(T1)\"], \"Weapon(T1)\"))\n",
        "\n",
        "\n",
        "# 2. Enemy(x, America) implies Hostile(x)\n",
        "kb.add_rule(Rule([\"Enemy(A, America)\"], \"Hostile(A)\"))\n",
        "\n",
        "\n",
        "# 3. Missile(x) and Owns(A, x) imply Sells(Robert, x, A)\n",
        "kb.add_rule(Rule([\"Missile(T1)\", \"Owns(A, T1)\"], \"Sells(Robert, T1, A)\"))\n",
        "\n",
        "\n",
        "# 4. American(p) and Weapon(q) and Sells(p, q, r) and Hostile(r) imply Criminal(p)\n",
        "kb.add_rule(Rule([\"American(Robert)\", \"Weapon(T1)\", \"Sells(Robert, T1, A)\", \"Hostile(A)\"], \"Criminal(Robert)\"))\n",
        "\n",
        "\n",
        "# Infer new facts based on the rules\n",
        "kb.infer()\n",
        "\n",
        "\n",
        "# Check if Robert is a criminal\n",
        "if \"Criminal(Robert)\" in kb.facts:\n",
        "    print(\"Conclusion: Robert is a criminal.\")\n",
        "else:\n",
        "    print(\"Conclusion: Unable to prove Robert is a criminal.\")\n",
        "\n",
        "print(\"---------\")\n",
        "print(\"Vanith D Ramesh (1BM22CS319)\")"
      ],
      "metadata": {
        "colab": {
          "base_uri": "https://localhost:8080/"
        },
        "id": "jgx1F-Kqqf4s",
        "outputId": "a73a97be-a91a-41f1-df4f-430af4321bb8"
      },
      "execution_count": null,
      "outputs": [
        {
          "output_type": "stream",
          "name": "stdout",
          "text": [
            "Inferred: Weapon(T1)\n",
            "Inferred: Hostile(A)\n",
            "Inferred: Sells(Robert, T1, A)\n",
            "Inferred: Criminal(Robert)\n",
            "Conclusion: Robert is a criminal.\n",
            "---------\n",
            "Vanith D Ramesh (1BM22CS319)\n"
          ]
        }
      ]
    }
  ]
}